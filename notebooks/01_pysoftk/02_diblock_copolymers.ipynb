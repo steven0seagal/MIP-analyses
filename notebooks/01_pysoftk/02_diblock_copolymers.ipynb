{
 "cells": [
  {
   "cell_type": "markdown",
   "metadata": {},
   "source": [
    "# Diblock Copolymer Generation\n",
    "\n",
    "**Author:** MIP Toolkit  \n",
    "**Description:** Generate and analyze diblock copolymers with varying compositions\n",
    "\n",
    "## Overview\n",
    "\n",
    "This notebook covers:\n",
    "1. Diblock copolymer synthesis from two monomers\n",
    "2. Varying block ratios and compositions\n",
    "3. Structure-property relationships\n",
    "4. Comparison with homopolymers\n",
    "\n",
    "## What We Calculate\n",
    "\n",
    "- **Block composition**: Ratio of monomer A to monomer B\n",
    "- **Total chain length**: Combined DP of both blocks\n",
    "- **Molecular weight**: MW of complete copolymer\n",
    "- **Amphiphilic character**: Balance of hydrophobic/hydrophilic blocks\n",
    "- **Glass transition prediction**: For mixed polymer systems"
   ]
  },
  {
   "cell_type": "markdown",
   "metadata": {},
   "source": [
    "## 1. Setup"
   ]
  },
  {
   "cell_type": "code",
   "execution_count": 1,
   "metadata": {},
   "outputs": [
    {
     "name": "stdout",
     "output_type": "stream",
     "text": [
      "✓ Setup complete\n"
     ]
    }
   ],
   "source": [
    "import sys\n",
    "sys.path.insert(0, '../../src')\n",
    "\n",
    "import numpy as np\n",
    "import pandas as pd\n",
    "import matplotlib.pyplot as plt\n",
    "from rdkit import Chem\n",
    "from rdkit.Chem import Draw, Descriptors\n",
    "\n",
    "from polymer_generator import PolymerGenerator\n",
    "from descriptor_calculator import PolymerDescriptorCalculator\n",
    "\n",
    "%matplotlib inline\n",
    "print(\"✓ Setup complete\")"
   ]
  },
  {
   "cell_type": "markdown",
   "metadata": {},
   "source": [
    "## 2. Define Monomer Pairs for Copolymers\n",
    "\n",
    "Common diblock systems:"
   ]
  },
  {
   "cell_type": "code",
   "execution_count": 2,
   "metadata": {},
   "outputs": [
    {
     "name": "stdout",
     "output_type": "stream",
     "text": [
      "PS-b-PMMA: Classic block copolymer for nanolithography\n",
      "PS-b-PEO: Amphiphilic copolymer for micelles\n",
      "PEG-b-PLA: Biocompatible drug delivery system\n"
     ]
    }
   ],
   "source": [
    "# Monomer pairs for interesting copolymers\n",
    "copolymer_systems = {\n",
    "    'PS-b-PMMA': {\n",
    "        'monomer1': {'name': 'styrene', 'smiles': 'C=Cc1ccccc1'},\n",
    "        'monomer2': {'name': 'methyl_methacrylate', 'smiles': 'C=C(C)C(=O)OC'},\n",
    "        'description': 'Classic block copolymer for nanolithography'\n",
    "    },\n",
    "    'PS-b-PEO': {\n",
    "        'monomer1': {'name': 'styrene', 'smiles': 'C=Cc1ccccc1'},\n",
    "        'monomer2': {'name': 'ethylene_oxide', 'smiles': 'C1CO1'},\n",
    "        'description': 'Amphiphilic copolymer for micelles'\n",
    "    },\n",
    "    'PEG-b-PLA': {\n",
    "        'monomer1': {'name': 'ethylene_glycol', 'smiles': 'OCCO'},\n",
    "        'monomer2': {'name': 'lactide', 'smiles': 'CC(O)C(=O)'},\n",
    "        'description': 'Biocompatible drug delivery system'\n",
    "    }\n",
    "}\n",
    "\n",
    "# Display systems\n",
    "for name, system in copolymer_systems.items():\n",
    "    print(f\"{name}: {system['description']}\")"
   ]
  },
  {
   "cell_type": "markdown",
   "metadata": {},
   "source": [
    "## 3. Generate Diblock Copolymer with Fixed Composition"
   ]
  },
  {
   "cell_type": "code",
   "execution_count": 3,
   "metadata": {},
   "outputs": [
    {
     "name": "stdout",
     "output_type": "stream",
     "text": [
      "Styrene with Br: C=Cc1ccccc1Br\n",
      "MMA with Br: C=C(C)C(=O)OCBr\n",
      "Generated PS-b-PMMA_alt_40 (alternating Copolymer) with DP=5\n",
      "\n",
      "Generated: PS-b-PMMA\n",
      "  Total DP: 40\n",
      "  Type: Alternating copolymer\n",
      "  MW: 1011.27 g/mol\n"
     ]
    }
   ],
   "source": [
    "# Initialize generator\n",
    "gen = PolymerGenerator()\n",
    "\n",
    "# First, add terminal groups to monomers for polymerization\n",
    "system = copolymer_systems['PS-b-PMMA']\n",
    "\n",
    "# Add Br terminal groups to styrene\n",
    "styrene_mol = Chem.MolFromSmiles(system['monomer1']['smiles'])\n",
    "styrene_with_br = gen._add_terminal_groups(styrene_mol, terminal_group='Br')\n",
    "styrene_br_smiles = Chem.MolToSmiles(styrene_with_br)\n",
    "\n",
    "# Add Br terminal groups to MMA\n",
    "mma_mol = Chem.MolFromSmiles(system['monomer2']['smiles'])\n",
    "mma_with_br = gen._add_terminal_groups(mma_mol, terminal_group='Br')\n",
    "mma_br_smiles = Chem.MolToSmiles(mma_with_br)\n",
    "\n",
    "print(f\"Styrene with Br: {styrene_br_smiles}\")\n",
    "print(f\"MMA with Br: {mma_br_smiles}\")\n",
    "\n",
    "# Generate alternating PS-b-PMMA copolymer with DP=40\n",
    "copolymer = gen.generate_copolymer(\n",
    "    monomer1=styrene_br_smiles,\n",
    "    monomer2=mma_br_smiles,\n",
    "    type='alternating',\n",
    "    dp=5,\n",
    "    name='PS-b-PMMA_alt_40'\n",
    ")\n",
    "\n",
    "if copolymer:\n",
    "    print(f\"\\nGenerated: PS-b-PMMA\")\n",
    "    print(f\"  Total DP: 40\")\n",
    "    print(f\"  Type: Alternating copolymer\")\n",
    "    print(f\"  MW: {Descriptors.MolWt(copolymer):.2f} g/mol\")"
   ]
  },
  {
   "cell_type": "markdown",
   "metadata": {},
   "source": [
    "## 4. Generate Multiple Copolymer Types\n",
    "\n",
    "**What we're calculating:** Different copolymer architectures from the same monomers"
   ]
  },
  {
   "cell_type": "code",
   "execution_count": 4,
   "metadata": {},
   "outputs": [
    {
     "name": "stdout",
     "output_type": "stream",
     "text": [
      "Generated PS-b-PMMA_alternating_DP5 (alternating Copolymer) with DP=5\n",
      "Generated PS-b-PMMA_alternating_DP10 (alternating Copolymer) with DP=10\n",
      "\n",
      "Copolymer Series:\n",
      "                         name         type  dp        MW     LogP   TPSA\n",
      "0   PS-b-PMMA_alternating_DP5  alternating   5  1011.265  14.7445  131.5\n",
      "1  PS-b-PMMA_alternating_DP10  alternating  10  2022.530  29.4890  263.0\n"
     ]
    }
   ],
   "source": [
    "# Generate different copolymer types with varying DP\n",
    "dp_values = [5, 10]\n",
    "copolymer_types = ['alternating']  # PySoftK supports alternating copolymers\n",
    "\n",
    "copolymer_series = []\n",
    "\n",
    "for dp_val in dp_values:\n",
    "    for copoly_type in copolymer_types:\n",
    "        # Generate copolymer\n",
    "        copoly = gen.generate_copolymer(\n",
    "            monomer1=styrene_br_smiles,\n",
    "            monomer2=mma_br_smiles,\n",
    "            type=copoly_type,\n",
    "            dp=dp_val,\n",
    "            name=f'PS-b-PMMA_{copoly_type}_DP{dp_val}'\n",
    "        )\n",
    "        \n",
    "        if copoly:\n",
    "            copolymer_series.append({\n",
    "                'name': f'PS-b-PMMA_{copoly_type}_DP{dp_val}',\n",
    "                'type': copoly_type,\n",
    "                'dp': dp_val,\n",
    "                'MW': Descriptors.MolWt(copoly),\n",
    "                'LogP': Descriptors.MolLogP(copoly),\n",
    "                'TPSA': Descriptors.TPSA(copoly),\n",
    "                'polymer': copoly\n",
    "            })\n",
    "\n",
    "copoly_df = pd.DataFrame(copolymer_series)\n",
    "print(\"\\nCopolymer Series:\")\n",
    "print(copoly_df[['name', 'type', 'dp', 'MW', 'LogP', 'TPSA']])"
   ]
  },
  {
   "cell_type": "markdown",
   "metadata": {},
   "source": [
    "## 5. Calculate Amphiphilic Balance for PS-b-PEO\n",
    "\n",
    "**What this calculates:** For amphiphilic copolymers like PS-b-PEO, we calculate the hydrophilic-lipophilic balance (HLB).\n",
    "\n",
    "Note: PySoftK creates alternating copolymers, so true block copolymers with controlled block ratios would require different synthesis approaches."
   ]
  },
  {
   "cell_type": "code",
   "execution_count": 5,
   "metadata": {},
   "outputs": [
    {
     "name": "stdout",
     "output_type": "stream",
     "text": [
      "PEO with Br: BrC1CO1\n",
      "Styrene with Br: C=Cc1ccccc1Br\n",
      "Generated PS-b-PEO_alt_DP5 (alternating Copolymer) with DP=5\n",
      "Generated PS-b-PEO_alt_DP10 (alternating Copolymer) with DP=10\n",
      "\n",
      "Amphiphilic Balance Analysis:\n",
      "HLB < 10: Oil-soluble, HLB > 10: Water-soluble\n",
      "            name  DP        MW       HLB    character     LogP\n",
      "0   PS-b-PEO_DP5   5   730.945  5.945946  Oil-soluble  12.0045\n",
      "1  PS-b-PEO_DP10  10  1461.890  5.945946  Oil-soluble  24.0090\n"
     ]
    },
    {
     "data": {
      "image/png": "[encoded data removed]",
      "text/plain": [
       "<Figure size 1000x600 with 1 Axes>"
      ]
     },
     "metadata": {},
     "output_type": "display_data"
    },
    {
     "name": "stdout",
     "output_type": "stream",
     "text": [
      "\n",
      "✓ HLB analysis complete\n"
     ]
    }
   ],
   "source": [
    "# Prepare PS-b-PEO monomers with terminal groups\n",
    "peo_system = copolymer_systems['PS-b-PEO']\n",
    "\n",
    "# Add Br terminal groups to ethylene oxide\n",
    "peo_mol = Chem.MolFromSmiles(peo_system['monomer2']['smiles'])\n",
    "peo_with_br = gen._add_terminal_groups(peo_mol, terminal_group='Br')\n",
    "peo_br_smiles = Chem.MolToSmiles(peo_with_br)\n",
    "\n",
    "print(f\"PEO with Br: {peo_br_smiles}\")\n",
    "print(f\"Styrene with Br: {styrene_br_smiles}\")\n",
    "\n",
    "# Generate PS-b-PEO alternating copolymer\n",
    "amphiphilic_series = []\n",
    "for dp_val in [5, 10]:\n",
    "    copoly = gen.generate_copolymer(\n",
    "        monomer1=styrene_br_smiles,\n",
    "        monomer2=peo_br_smiles,\n",
    "        type='alternating',\n",
    "        dp=dp_val,\n",
    "        name=f'PS-b-PEO_alt_DP{dp_val}'\n",
    "    )\n",
    "    \n",
    "    if copoly:\n",
    "        # Calculate approximate HLB\n",
    "        # For alternating copolymer: equal molar amounts\n",
    "        # HLB = 20 * (Mw_hydrophilic / Mw_total)\n",
    "        mw_peo_unit = 44  # ethylene oxide MW\n",
    "        mw_ps_unit = 104  # styrene MW\n",
    "        n_units = dp_val // 2  # each monomer appears dp/2 times\n",
    "        \n",
    "        mw_peo = n_units * mw_peo_unit\n",
    "        mw_ps = n_units * mw_ps_unit\n",
    "        hlb = 20 * (mw_peo / (mw_peo + mw_ps))\n",
    "        \n",
    "        amphiphilic_series.append({\n",
    "            'name': f'PS-b-PEO_DP{dp_val}',\n",
    "            'DP': dp_val,\n",
    "            'MW': Descriptors.MolWt(copoly),\n",
    "            'HLB': hlb,\n",
    "            'character': 'Oil-soluble' if hlb < 10 else 'Water-soluble',\n",
    "            'LogP': Descriptors.MolLogP(copoly)\n",
    "        })\n",
    "\n",
    "amphiphilic_df = pd.DataFrame(amphiphilic_series)\n",
    "print(\"\\nAmphiphilic Balance Analysis:\")\n",
    "print(\"HLB < 10: Oil-soluble, HLB > 10: Water-soluble\")\n",
    "print(amphiphilic_df)\n",
    "\n",
    "# Plot HLB vs DP\n",
    "plt.figure(figsize=(10, 6))\n",
    "plt.plot(amphiphilic_df['DP'], amphiphilic_df['HLB'], 'o-', linewidth=2, markersize=8)\n",
    "plt.axhline(y=10, color='r', linestyle='--', label='HLB = 10 (threshold)')\n",
    "plt.xlabel('Degree of Polymerization', fontsize=12)\n",
    "plt.ylabel('HLB Value', fontsize=12)\n",
    "plt.title('Hydrophilic-Lipophilic Balance vs Chain Length', fontsize=14)\n",
    "plt.legend()\n",
    "plt.grid(alpha=0.3)\n",
    "plt.tight_layout()\n",
    "plt.show()\n",
    "\n",
    "print(\"\\n✓ HLB analysis complete\")"
   ]
  },
  {
   "cell_type": "markdown",
   "metadata": {},
   "source": [
    "## 6. Compare with Homopolymers\n",
    "\n",
    "**Calculation:** How copolymer properties differ from pure homopolymers"
   ]
  },
  {
   "cell_type": "code",
   "execution_count": 6,
   "metadata": {},
   "outputs": [
    {
     "name": "stdout",
     "output_type": "stream",
     "text": [
      "/tmp/tmpsiphe1qa.mol\n",
      "Generated PS_homo (Homopolymer) with DP=5\n",
      "/tmp/tmpn9z6qk7z.mol\n",
      "Generated PMMA_homo (Homopolymer) with DP=5\n",
      "Generated PS-b-PMMA_alt (alternating Copolymer) with DP=5\n",
      "\n",
      "Property Comparison:\n",
      "                                Name        MW     LogP   TPSA   \n",
      "0                   PS (homopolymer)  1031.440  23.1980    0.0  \\\n",
      "1                 PMMA (homopolymer)   991.090   6.1250  263.0   \n",
      "2  PS-b-PMMA (alternating copolymer)  1011.265  14.7445  131.5   \n",
      "\n",
      "   NumRotatableBonds  \n",
      "0                 15  \n",
      "1                 35  \n",
      "2                 25  \n"
     ]
    },
    {
     "data": {
      "image/png": "[encoded data removed]",
      "text/plain": [
       "<Figure size 1500x500 with 3 Axes>"
      ]
     },
     "metadata": {},
     "output_type": "display_data"
    }
   ],
   "source": [
    "# Generate homopolymers for comparison\n",
    "dp = 5\n",
    "\n",
    "# Prepare monomers with terminal groups\n",
    "ps_homo = gen.generate_homopolymer(styrene_br_smiles, dp=dp, name='PS_homo')\n",
    "pmma_homo = gen.generate_homopolymer(mma_br_smiles, dp=dp, name='PMMA_homo')\n",
    "ps_pmma_copoly = gen.generate_copolymer(\n",
    "    styrene_br_smiles, \n",
    "    mma_br_smiles, \n",
    "    type='alternating',\n",
    "    dp=dp, \n",
    "    name='PS-b-PMMA_alt'\n",
    ")\n",
    "\n",
    "# Calculate descriptors\n",
    "calc = PolymerDescriptorCalculator()\n",
    "polymers = [ps_homo, pmma_homo, ps_pmma_copoly]\n",
    "names = ['PS (homopolymer)', 'PMMA (homopolymer)', 'PS-b-PMMA (alternating copolymer)']\n",
    "\n",
    "# Filter out None values\n",
    "valid_polymers = [(p, n) for p, n in zip(polymers, names) if p is not None]\n",
    "if valid_polymers:\n",
    "    polymers_clean, names_clean = zip(*valid_polymers)\n",
    "    comparison_df = calc.calculate_batch(list(polymers_clean), names=list(names_clean))\n",
    "\n",
    "    print(\"\\nProperty Comparison:\")\n",
    "    print(comparison_df[['Name', 'MW', 'LogP', 'TPSA', 'NumRotatableBonds']])\n",
    "\n",
    "    # Visualize property differences\n",
    "    fig, axes = plt.subplots(1, 3, figsize=(15, 5))\n",
    "    properties = ['MW', 'LogP', 'TPSA']\n",
    "\n",
    "    for i, prop in enumerate(properties):\n",
    "        axes[i].bar(range(len(comparison_df)), comparison_df[prop], \n",
    "                   color=['blue', 'green', 'purple'])\n",
    "        axes[i].set_xticks(range(len(comparison_df)))\n",
    "        axes[i].set_xticklabels(['PS', 'PMMA', 'PS-b-PMMA'], rotation=45)\n",
    "        axes[i].set_ylabel(prop, fontsize=12)\n",
    "        axes[i].set_title(f'{prop} Comparison', fontsize=12)\n",
    "        axes[i].grid(alpha=0.3, axis='y')\n",
    "\n",
    "    plt.tight_layout()\n",
    "    plt.savefig('../../outputs/figures/copolymer_comparison.png', dpi=300, bbox_inches='tight')\n",
    "    plt.show()\n",
    "else:\n",
    "    print(\"Error: Could not generate polymers for comparison\")"
   ]
  },
  {
   "cell_type": "markdown",
   "metadata": {},
   "source": [
    "## 7. Key Findings\n",
    "\n",
    "**What We Calculated and Why It Matters:**\n",
    "\n",
    "1. **Copolymer Architecture**:\n",
    "   - PySoftK generates **alternating copolymers** (ABABAB pattern)\n",
    "   - Each monomer appears with equal frequency in the chain\n",
    "   - Total DP controls overall chain length\n",
    "\n",
    "2. **HLB Value for Amphiphilic Systems**:\n",
    "   - Predicts solubility behavior\n",
    "   - Critical for surfactant and micelle applications\n",
    "   - HLB < 10: Oil-soluble, HLB > 10: Water-soluble\n",
    "   - For alternating PS-b-PEO: HLB ≈ 5.9 (oil-soluble)\n",
    "\n",
    "3. **Molecular Weight**:\n",
    "   - Alternating copolymer MW is average of both monomers × DP\n",
    "   - MW increases linearly with DP\n",
    "\n",
    "4. **LogP (Hydrophobicity)**:\n",
    "   - Alternating copolymer LogP is blend of both monomers\n",
    "   - PS-b-PMMA: intermediate hydrophobicity\n",
    "   - PS-b-PEO: mixed hydrophobic/hydrophilic character\n",
    "\n",
    "**Applications:**\n",
    "- PS-b-PMMA: Nanolithography, thin films\n",
    "- PS-b-PEO: Drug delivery, micelles (when arranged as blocks)\n",
    "- PEG-b-PLA: Biomedical materials\n",
    "\n",
    "**Note on Block Copolymers:**\n",
    "- True block copolymers (AAAABBBB) require controlled polymerization\n",
    "- PySoftK creates alternating structures\n",
    "- For controlled block ratios, advanced synthesis methods needed"
   ]
  },
  {
   "cell_type": "markdown",
   "metadata": {},
   "source": [
    "## 8. Export Results"
   ]
  },
  {
   "cell_type": "code",
   "execution_count": 7,
   "metadata": {},
   "outputs": [
    {
     "name": "stdout",
     "output_type": "stream",
     "text": [
      "✓ Saved copolymer series\n",
      "✓ Saved amphiphilic analysis\n",
      "\n",
      "✓ Diblock copolymer analysis complete!\n",
      "\n",
      "Next: Explore MMFF94 optimization (notebook 03)\n"
     ]
    }
   ],
   "source": [
    "# Save copolymer library\n",
    "if len(copoly_df) > 0:\n",
    "    copoly_df[['name', 'type', 'dp', 'MW', 'LogP', 'TPSA']].to_csv(\n",
    "        '../../data/polymers/copolymer_series.csv', index=False\n",
    "    )\n",
    "    print(\"✓ Saved copolymer series\")\n",
    "\n",
    "if len(amphiphilic_df) > 0:\n",
    "    amphiphilic_df.to_csv('../../data/polymers/amphiphilic_analysis.csv', index=False)\n",
    "    print(\"✓ Saved amphiphilic analysis\")\n",
    "\n",
    "print(\"\\n✓ Diblock copolymer analysis complete!\")\n",
    "print(\"\\nNext: Explore MMFF94 optimization (notebook 03)\")"
   ]
  }
 ],
 "metadata": {
  "kernelspec": {
   "display_name": "mip-toolkit",
   "language": "python",
   "name": "python3"
  },
  "language_info": {
   "codemirror_mode": {
    "name": "ipython",
    "version": 3
   },
   "file_extension": ".py",
   "mimetype": "text/x-python",
   "name": "python",
   "nbconvert_exporter": "python",
   "pygments_lexer": "ipython3",
   "version": "3.10.18"
  }
 },
 "nbformat": 4,
 "nbformat_minor": 4
}
